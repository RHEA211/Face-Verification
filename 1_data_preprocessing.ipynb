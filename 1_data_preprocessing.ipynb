{
 "cells": [
  {
   "cell_type": "code",
   "execution_count": 1,
   "metadata": {
    "scrolled": true
   },
   "outputs": [
    {
     "name": "stdout",
     "output_type": "stream",
     "text": [
      "Requirement already satisfied: opencv-python in c:\\python39\\lib\\site-packages (4.5.2.54)\n",
      "Requirement already satisfied: numpy>=1.19.3 in c:\\python39\\lib\\site-packages (from opencv-python) (1.22.4)\n",
      "Note: you may need to restart the kernel to use updated packages.\n"
     ]
    },
    {
     "name": "stderr",
     "output_type": "stream",
     "text": [
      "WARNING: You are using pip version 21.1.3; however, version 22.1.2 is available.\n",
      "You should consider upgrading via the 'c:\\python39\\python.exe -m pip install --upgrade pip' command.\n"
     ]
    }
   ],
   "source": [
    "pip install opencv-python"
   ]
  },
  {
   "cell_type": "code",
   "execution_count": 2,
   "metadata": {},
   "outputs": [
    {
     "name": "stdout",
     "output_type": "stream",
     "text": [
      "Requirement already satisfied: opencv-python-headless<4.3 in c:\\python39\\lib\\site-packages (3.4.18.65)\n",
      "Requirement already satisfied: numpy>=1.19.3 in c:\\python39\\lib\\site-packages (from opencv-python-headless<4.3) (1.22.4)\n",
      "Note: you may need to restart the kernel to use updated packages.\n"
     ]
    },
    {
     "name": "stderr",
     "output_type": "stream",
     "text": [
      "WARNING: You are using pip version 21.1.3; however, version 22.1.2 is available.\n",
      "You should consider upgrading via the 'c:\\python39\\python.exe -m pip install --upgrade pip' command.\n"
     ]
    }
   ],
   "source": [
    "pip install \"opencv-python-headless<4.3\""
   ]
  },
  {
   "cell_type": "code",
   "execution_count": 3,
   "metadata": {},
   "outputs": [],
   "source": [
    "import numpy as np\n",
    "import cv2\n",
    "import pandas as pd\n",
    "import os\n",
    "import pickle"
   ]
  },
  {
   "cell_type": "markdown",
   "metadata": {},
   "source": [
    "# Face Detection Model\n",
    "- Load the models"
   ]
  },
  {
   "cell_type": "code",
   "execution_count": 4,
   "metadata": {},
   "outputs": [
    {
     "name": "stdout",
     "output_type": "stream",
     "text": [
      "Note: you may need to restart the kernel to use updated packages.\n"
     ]
    },
    {
     "name": "stderr",
     "output_type": "stream",
     "text": [
      "ERROR: Could not find a version that satisfies the requirement opencv (from versions: none)\n",
      "ERROR: No matching distribution found for opencv\n",
      "WARNING: You are using pip version 21.1.3; however, version 22.1.2 is available.\n",
      "You should consider upgrading via the 'c:\\python39\\python.exe -m pip install --upgrade pip' command.\n"
     ]
    }
   ],
   "source": [
    "pip install opencv"
   ]
  },
  {
   "cell_type": "code",
   "execution_count": 5,
   "metadata": {},
   "outputs": [],
   "source": [
    "\n",
    "face_detection_model = 'res10_300x300_ssd_iter_140000.caffemodel'\n",
    "face_detection_proto = 'deploy.prototxt.txt'\n",
    "face_descriptor = 'openface.nn4.small2.v1.t7'\n",
    "# load models using cv2 dnn\n",
    "detector_model = cv2.dnn.readNetFromCaffe(face_detection_proto,face_detection_model)\n",
    "descriptor_model = cv2.dnn.readNetFromTorch(face_descriptor)"
   ]
  },
  {
   "cell_type": "code",
   "execution_count": 6,
   "metadata": {},
   "outputs": [
    {
     "name": "stdout",
     "output_type": "stream",
     "text": [
      " Volume in drive C is Windows \n",
      " Volume Serial Number is D8D9-8EA7\n",
      "\n",
      " Directory of C:\\Users\\KIIT\\Desktop\\TNT\\FINAL\\images\n",
      "\n",
      "19-06-2022  00:10    <DIR>          .\n",
      "19-06-2022  00:10    <DIR>          ..\n",
      "19-06-2022  00:10    <DIR>          Malaya\n",
      "19-06-2022  00:10    <DIR>          Rhea\n",
      "19-06-2022  00:10    <DIR>          Roji\n",
      "               0 File(s)              0 bytes\n",
      "               5 Dir(s)  93,442,965,504 bytes free\n"
     ]
    }
   ],
   "source": [
    "!dir images"
   ]
  },
  {
   "cell_type": "code",
   "execution_count": 7,
   "metadata": {},
   "outputs": [
    {
     "ename": "error",
     "evalue": "OpenCV(4.5.2) C:\\Users\\runneradmin\\AppData\\Local\\Temp\\pip-req-build-1hfhc_rd\\opencv\\modules\\highgui\\src\\window.cpp:404: error: (-215:Assertion failed) size.width>0 && size.height>0 in function 'cv::imshow'\n",
     "output_type": "error",
     "traceback": [
      "\u001b[1;31m---------------------------------------------------------------------------\u001b[0m",
      "\u001b[1;31merror\u001b[0m                                     Traceback (most recent call last)",
      "\u001b[1;32m<ipython-input-7-2a0c5ae8c187>\u001b[0m in \u001b[0;36m<module>\u001b[1;34m\u001b[0m\n\u001b[0;32m      1\u001b[0m \u001b[1;31m# consider sample image\u001b[0m\u001b[1;33m\u001b[0m\u001b[1;33m\u001b[0m\u001b[1;33m\u001b[0m\u001b[0m\n\u001b[0;32m      2\u001b[0m \u001b[0mimg\u001b[0m \u001b[1;33m=\u001b[0m \u001b[0mcv2\u001b[0m\u001b[1;33m.\u001b[0m\u001b[0mimread\u001b[0m\u001b[1;33m(\u001b[0m\u001b[1;34m'./images/Sachin Tendulkar/2200.jpg'\u001b[0m\u001b[1;33m)\u001b[0m\u001b[1;33m\u001b[0m\u001b[1;33m\u001b[0m\u001b[0m\n\u001b[1;32m----> 3\u001b[1;33m \u001b[0mcv2\u001b[0m\u001b[1;33m.\u001b[0m\u001b[0mimshow\u001b[0m\u001b[1;33m(\u001b[0m\u001b[1;34m'sample'\u001b[0m\u001b[1;33m,\u001b[0m\u001b[0mimg\u001b[0m\u001b[1;33m)\u001b[0m\u001b[1;33m\u001b[0m\u001b[1;33m\u001b[0m\u001b[0m\n\u001b[0m\u001b[0;32m      4\u001b[0m \u001b[0mcv2\u001b[0m\u001b[1;33m.\u001b[0m\u001b[0mwaitKey\u001b[0m\u001b[1;33m(\u001b[0m\u001b[1;36m0\u001b[0m\u001b[1;33m)\u001b[0m\u001b[1;33m\u001b[0m\u001b[1;33m\u001b[0m\u001b[0m\n\u001b[0;32m      5\u001b[0m \u001b[0mcv2\u001b[0m\u001b[1;33m.\u001b[0m\u001b[0mdestroyAllWindows\u001b[0m\u001b[1;33m(\u001b[0m\u001b[1;33m)\u001b[0m\u001b[1;33m\u001b[0m\u001b[1;33m\u001b[0m\u001b[0m\n",
      "\u001b[1;31merror\u001b[0m: OpenCV(4.5.2) C:\\Users\\runneradmin\\AppData\\Local\\Temp\\pip-req-build-1hfhc_rd\\opencv\\modules\\highgui\\src\\window.cpp:404: error: (-215:Assertion failed) size.width>0 && size.height>0 in function 'cv::imshow'\n"
     ]
    }
   ],
   "source": [
    "# consider sample image\n",
    "img = cv2.imread('./images/Sachin Tendulkar/2200.jpg')\n",
    "cv2.imshow('sample',img)\n",
    "cv2.waitKey(0)\n",
    "cv2.destroyAllWindows()"
   ]
  },
  {
   "cell_type": "code",
   "execution_count": 8,
   "metadata": {},
   "outputs": [],
   "source": [
    "def helper(image_path):\n",
    "    img = cv2.imread(image_path)\n",
    "    # step-1: face detection\n",
    "    image = img.copy()\n",
    "    h,w = image.shape[:2]\n",
    "    img_blob = cv2.dnn.blobFromImage(image,1,(300,300),(104,177,123),swapRB=False,crop=False)\n",
    "    # set the input\n",
    "    detector_model.setInput(img_blob)\n",
    "    detections = detector_model.forward()\n",
    "\n",
    "    if len(detections) > 0:\n",
    "        i = np.argmax(detections[0,0,:,2])# consider the face with max confidence score\n",
    "        confidence = detections[0,0,i,2]\n",
    "        if confidence > 0.5:\n",
    "            box = detections[0,0,i,3:7]*np.array([w,h,w,h])\n",
    "            (startx,starty,endx,endy) = box.astype('int')\n",
    "            # step-2: Feature Extraction or Embedding\n",
    "            roi = image[starty:endy,startx:endx].copy()\n",
    "            # get the face descriptors\n",
    "            faceblob = cv2.dnn.blobFromImage(roi,1/255,(96,96),(0,0,0),swapRB=True,crop=True)\n",
    "            descriptor_model.setInput(faceblob)\n",
    "            vectors = descriptor_model.forward()\n",
    "            \n",
    "            return vectors\n",
    "    return None\n"
   ]
  },
  {
   "cell_type": "markdown",
   "metadata": {},
   "source": [
    "# apply helper function to all images and get face descriptors"
   ]
  },
  {
   "cell_type": "code",
   "execution_count": 9,
   "metadata": {},
   "outputs": [],
   "source": [
    "data = dict(data=[],label=[])"
   ]
  },
  {
   "cell_type": "code",
   "execution_count": 10,
   "metadata": {
    "scrolled": true
   },
   "outputs": [
    {
     "name": "stdout",
     "output_type": "stream",
     "text": [
      "Feature Extracted Sucessfully\n",
      "Feature Extracted Sucessfully\n",
      "Feature Extracted Sucessfully\n",
      "Feature Extracted Sucessfully\n",
      "Feature Extracted Sucessfully\n",
      "Feature Extracted Sucessfully\n",
      "Feature Extracted Sucessfully\n",
      "Feature Extracted Sucessfully\n",
      "Feature Extracted Sucessfully\n",
      "Feature Extracted Sucessfully\n",
      "Feature Extracted Sucessfully\n",
      "Feature Extracted Sucessfully\n",
      "Feature Extracted Sucessfully\n",
      "Feature Extracted Sucessfully\n",
      "Feature Extracted Sucessfully\n",
      "Feature Extracted Sucessfully\n",
      "Feature Extracted Sucessfully\n",
      "Feature Extracted Sucessfully\n",
      "Feature Extracted Sucessfully\n",
      "Feature Extracted Sucessfully\n",
      "Feature Extracted Sucessfully\n",
      "Feature Extracted Sucessfully\n",
      "Feature Extracted Sucessfully\n",
      "Feature Extracted Sucessfully\n",
      "Feature Extracted Sucessfully\n",
      "Feature Extracted Sucessfully\n",
      "Feature Extracted Sucessfully\n",
      "Feature Extracted Sucessfully\n",
      "Feature Extracted Sucessfully\n",
      "Feature Extracted Sucessfully\n",
      "Feature Extracted Sucessfully\n",
      "Feature Extracted Sucessfully\n",
      "Feature Extracted Sucessfully\n",
      "Feature Extracted Sucessfully\n",
      "Feature Extracted Sucessfully\n",
      "Feature Extracted Sucessfully\n",
      "Feature Extracted Sucessfully\n",
      "Feature Extracted Sucessfully\n",
      "Feature Extracted Sucessfully\n",
      "Feature Extracted Sucessfully\n",
      "Feature Extracted Sucessfully\n",
      "Feature Extracted Sucessfully\n",
      "Feature Extracted Sucessfully\n",
      "Feature Extracted Sucessfully\n",
      "Feature Extracted Sucessfully\n",
      "Feature Extracted Sucessfully\n",
      "Feature Extracted Sucessfully\n",
      "Feature Extracted Sucessfully\n",
      "Feature Extracted Sucessfully\n",
      "Feature Extracted Sucessfully\n",
      "Feature Extracted Sucessfully\n",
      "Feature Extracted Sucessfully\n",
      "Feature Extracted Sucessfully\n",
      "Feature Extracted Sucessfully\n",
      "Feature Extracted Sucessfully\n",
      "Feature Extracted Sucessfully\n",
      "Feature Extracted Sucessfully\n",
      "Feature Extracted Sucessfully\n",
      "Feature Extracted Sucessfully\n",
      "Feature Extracted Sucessfully\n",
      "Feature Extracted Sucessfully\n",
      "Feature Extracted Sucessfully\n",
      "Feature Extracted Sucessfully\n",
      "Feature Extracted Sucessfully\n",
      "Feature Extracted Sucessfully\n",
      "Feature Extracted Sucessfully\n",
      "Feature Extracted Sucessfully\n",
      "Feature Extracted Sucessfully\n",
      "Feature Extracted Sucessfully\n",
      "Feature Extracted Sucessfully\n",
      "Feature Extracted Sucessfully\n",
      "Feature Extracted Sucessfully\n",
      "Feature Extracted Sucessfully\n",
      "Feature Extracted Sucessfully\n",
      "Feature Extracted Sucessfully\n",
      "Feature Extracted Sucessfully\n",
      "Feature Extracted Sucessfully\n",
      "Feature Extracted Sucessfully\n",
      "Feature Extracted Sucessfully\n",
      "Feature Extracted Sucessfully\n",
      "Feature Extracted Sucessfully\n",
      "Feature Extracted Sucessfully\n",
      "Feature Extracted Sucessfully\n",
      "Feature Extracted Sucessfully\n",
      "Feature Extracted Sucessfully\n",
      "Feature Extracted Sucessfully\n",
      "Feature Extracted Sucessfully\n",
      "Feature Extracted Sucessfully\n",
      "Feature Extracted Sucessfully\n",
      "Feature Extracted Sucessfully\n",
      "Feature Extracted Sucessfully\n",
      "Feature Extracted Sucessfully\n",
      "Feature Extracted Sucessfully\n",
      "Feature Extracted Sucessfully\n",
      "Feature Extracted Sucessfully\n",
      "Feature Extracted Sucessfully\n",
      "Feature Extracted Sucessfully\n",
      "Feature Extracted Sucessfully\n",
      "Feature Extracted Sucessfully\n",
      "Feature Extracted Sucessfully\n",
      "Feature Extracted Sucessfully\n",
      "Feature Extracted Sucessfully\n",
      "Feature Extracted Sucessfully\n",
      "Feature Extracted Sucessfully\n",
      "Feature Extracted Sucessfully\n",
      "Feature Extracted Sucessfully\n",
      "Feature Extracted Sucessfully\n",
      "Feature Extracted Sucessfully\n",
      "Feature Extracted Sucessfully\n",
      "Feature Extracted Sucessfully\n",
      "Feature Extracted Sucessfully\n",
      "Feature Extracted Sucessfully\n",
      "Feature Extracted Sucessfully\n",
      "Feature Extracted Sucessfully\n",
      "Feature Extracted Sucessfully\n",
      "Feature Extracted Sucessfully\n",
      "Feature Extracted Sucessfully\n",
      "Feature Extracted Sucessfully\n",
      "Feature Extracted Sucessfully\n",
      "Feature Extracted Sucessfully\n",
      "Feature Extracted Sucessfully\n",
      "Feature Extracted Sucessfully\n",
      "Feature Extracted Sucessfully\n",
      "Feature Extracted Sucessfully\n",
      "Feature Extracted Sucessfully\n",
      "Feature Extracted Sucessfully\n",
      "Feature Extracted Sucessfully\n",
      "Feature Extracted Sucessfully\n",
      "Feature Extracted Sucessfully\n",
      "Feature Extracted Sucessfully\n",
      "Feature Extracted Sucessfully\n",
      "Feature Extracted Sucessfully\n",
      "Feature Extracted Sucessfully\n",
      "Feature Extracted Sucessfully\n",
      "Feature Extracted Sucessfully\n",
      "Feature Extracted Sucessfully\n",
      "Feature Extracted Sucessfully\n",
      "Feature Extracted Sucessfully\n",
      "Feature Extracted Sucessfully\n",
      "Feature Extracted Sucessfully\n",
      "Feature Extracted Sucessfully\n",
      "Feature Extracted Sucessfully\n",
      "Feature Extracted Sucessfully\n",
      "Feature Extracted Sucessfully\n",
      "Feature Extracted Sucessfully\n",
      "Feature Extracted Sucessfully\n",
      "Feature Extracted Sucessfully\n",
      "Feature Extracted Sucessfully\n",
      "Feature Extracted Sucessfully\n",
      "Feature Extracted Sucessfully\n",
      "Feature Extracted Sucessfully\n",
      "Feature Extracted Sucessfully\n",
      "Feature Extracted Sucessfully\n",
      "Feature Extracted Sucessfully\n",
      "Feature Extracted Sucessfully\n",
      "Feature Extracted Sucessfully\n",
      "Feature Extracted Sucessfully\n",
      "Feature Extracted Sucessfully\n",
      "Feature Extracted Sucessfully\n",
      "Feature Extracted Sucessfully\n",
      "Feature Extracted Sucessfully\n",
      "Feature Extracted Sucessfully\n",
      "Feature Extracted Sucessfully\n",
      "Feature Extracted Sucessfully\n",
      "Feature Extracted Sucessfully\n",
      "Feature Extracted Sucessfully\n",
      "Feature Extracted Sucessfully\n",
      "Feature Extracted Sucessfully\n",
      "Feature Extracted Sucessfully\n",
      "Feature Extracted Sucessfully\n",
      "Feature Extracted Sucessfully\n",
      "Feature Extracted Sucessfully\n",
      "Feature Extracted Sucessfully\n",
      "Feature Extracted Sucessfully\n",
      "Feature Extracted Sucessfully\n",
      "Feature Extracted Sucessfully\n",
      "Feature Extracted Sucessfully\n",
      "Feature Extracted Sucessfully\n",
      "Feature Extracted Sucessfully\n",
      "Feature Extracted Sucessfully\n",
      "Feature Extracted Sucessfully\n",
      "Feature Extracted Sucessfully\n",
      "Feature Extracted Sucessfully\n",
      "Feature Extracted Sucessfully\n",
      "Feature Extracted Sucessfully\n",
      "Feature Extracted Sucessfully\n",
      "Feature Extracted Sucessfully\n",
      "Feature Extracted Sucessfully\n",
      "Feature Extracted Sucessfully\n",
      "Feature Extracted Sucessfully\n",
      "Feature Extracted Sucessfully\n",
      "Feature Extracted Sucessfully\n",
      "Feature Extracted Sucessfully\n",
      "Feature Extracted Sucessfully\n",
      "Feature Extracted Sucessfully\n",
      "Feature Extracted Sucessfully\n",
      "Feature Extracted Sucessfully\n",
      "Feature Extracted Sucessfully\n",
      "Feature Extracted Sucessfully\n",
      "Feature Extracted Sucessfully\n",
      "Feature Extracted Sucessfully\n",
      "Feature Extracted Sucessfully\n",
      "Feature Extracted Sucessfully\n",
      "Feature Extracted Sucessfully\n",
      "Feature Extracted Sucessfully\n",
      "Feature Extracted Sucessfully\n",
      "Feature Extracted Sucessfully\n",
      "Feature Extracted Sucessfully\n",
      "Feature Extracted Sucessfully\n",
      "Feature Extracted Sucessfully\n",
      "Feature Extracted Sucessfully\n",
      "Feature Extracted Sucessfully\n",
      "Feature Extracted Sucessfully\n",
      "Feature Extracted Sucessfully\n",
      "Feature Extracted Sucessfully\n",
      "Feature Extracted Sucessfully\n",
      "Feature Extracted Sucessfully\n",
      "Feature Extracted Sucessfully\n",
      "Feature Extracted Sucessfully\n",
      "Feature Extracted Sucessfully\n",
      "Feature Extracted Sucessfully\n",
      "Feature Extracted Sucessfully\n",
      "Feature Extracted Sucessfully\n",
      "Feature Extracted Sucessfully\n",
      "Feature Extracted Sucessfully\n",
      "Feature Extracted Sucessfully\n",
      "Feature Extracted Sucessfully\n",
      "Feature Extracted Sucessfully\n",
      "Feature Extracted Sucessfully\n",
      "Feature Extracted Sucessfully\n",
      "Feature Extracted Sucessfully\n",
      "Feature Extracted Sucessfully\n",
      "Feature Extracted Sucessfully\n",
      "Feature Extracted Sucessfully\n",
      "Feature Extracted Sucessfully\n",
      "Feature Extracted Sucessfully\n",
      "Feature Extracted Sucessfully\n",
      "Feature Extracted Sucessfully\n",
      "Feature Extracted Sucessfully\n",
      "Feature Extracted Sucessfully\n",
      "Feature Extracted Sucessfully\n",
      "Feature Extracted Sucessfully\n",
      "Feature Extracted Sucessfully\n",
      "Feature Extracted Sucessfully\n",
      "Feature Extracted Sucessfully\n",
      "Feature Extracted Sucessfully\n",
      "Feature Extracted Sucessfully\n",
      "Feature Extracted Sucessfully\n",
      "Feature Extracted Sucessfully\n",
      "Feature Extracted Sucessfully\n",
      "Feature Extracted Sucessfully\n",
      "Feature Extracted Sucessfully\n",
      "Feature Extracted Sucessfully\n",
      "Feature Extracted Sucessfully\n",
      "Feature Extracted Sucessfully\n",
      "Feature Extracted Sucessfully\n",
      "Feature Extracted Sucessfully\n",
      "Feature Extracted Sucessfully\n",
      "Feature Extracted Sucessfully\n",
      "Feature Extracted Sucessfully\n",
      "Feature Extracted Sucessfully\n",
      "Feature Extracted Sucessfully\n",
      "Feature Extracted Sucessfully\n",
      "Feature Extracted Sucessfully\n",
      "Feature Extracted Sucessfully\n",
      "Feature Extracted Sucessfully\n",
      "Feature Extracted Sucessfully\n",
      "Feature Extracted Sucessfully\n",
      "Feature Extracted Sucessfully\n",
      "Feature Extracted Sucessfully\n",
      "Feature Extracted Sucessfully\n",
      "Feature Extracted Sucessfully\n",
      "Feature Extracted Sucessfully\n",
      "Feature Extracted Sucessfully\n"
     ]
    },
    {
     "name": "stdout",
     "output_type": "stream",
     "text": [
      "Feature Extracted Sucessfully\n",
      "Feature Extracted Sucessfully\n",
      "Feature Extracted Sucessfully\n",
      "Feature Extracted Sucessfully\n",
      "Feature Extracted Sucessfully\n",
      "Feature Extracted Sucessfully\n",
      "Feature Extracted Sucessfully\n",
      "Feature Extracted Sucessfully\n",
      "Feature Extracted Sucessfully\n",
      "Feature Extracted Sucessfully\n",
      "Feature Extracted Sucessfully\n",
      "Feature Extracted Sucessfully\n",
      "Feature Extracted Sucessfully\n",
      "Feature Extracted Sucessfully\n",
      "Feature Extracted Sucessfully\n",
      "Feature Extracted Sucessfully\n",
      "Feature Extracted Sucessfully\n",
      "Feature Extracted Sucessfully\n",
      "Feature Extracted Sucessfully\n",
      "Feature Extracted Sucessfully\n",
      "Feature Extracted Sucessfully\n",
      "Feature Extracted Sucessfully\n",
      "Feature Extracted Sucessfully\n",
      "Feature Extracted Sucessfully\n",
      "Feature Extracted Sucessfully\n",
      "Feature Extracted Sucessfully\n",
      "Feature Extracted Sucessfully\n"
     ]
    }
   ],
   "source": [
    "folders = os.listdir('images')\n",
    "for folder in folders:\n",
    "    filenames = os.listdir('images/{}'.format(folder))\n",
    "    for filename in filenames:\n",
    "        try:\n",
    "\n",
    "            vector = helper('./images/{}/{}'.format(folder,filename))\n",
    "            if vector is not None:\n",
    "                data['data'].append(vector)\n",
    "                data['label'].append(folder)\n",
    "                print('Feature Extracted Sucessfully')\n",
    "                \n",
    "        except:\n",
    "            pass"
   ]
  },
  {
   "cell_type": "code",
   "execution_count": 11,
   "metadata": {},
   "outputs": [
    {
     "data": {
      "text/plain": [
       "dict_keys(['data', 'label'])"
      ]
     },
     "execution_count": 11,
     "metadata": {},
     "output_type": "execute_result"
    }
   ],
   "source": [
    "data.keys()"
   ]
  },
  {
   "cell_type": "code",
   "execution_count": 12,
   "metadata": {},
   "outputs": [
    {
     "data": {
      "text/plain": [
       "Rhea      101\n",
       "Roji      100\n",
       "Malaya    100\n",
       "dtype: int64"
      ]
     },
     "execution_count": 12,
     "metadata": {},
     "output_type": "execute_result"
    }
   ],
   "source": [
    "pd.Series(data['label']).value_counts()"
   ]
  },
  {
   "cell_type": "code",
   "execution_count": 13,
   "metadata": {},
   "outputs": [],
   "source": [
    "# save the data\n",
    "pickle.dump(data,open('step1.pickle',mode='wb'))"
   ]
  },
  {
   "cell_type": "code",
   "execution_count": null,
   "metadata": {},
   "outputs": [],
   "source": []
  },
  {
   "cell_type": "code",
   "execution_count": null,
   "metadata": {},
   "outputs": [],
   "source": []
  },
  {
   "cell_type": "code",
   "execution_count": null,
   "metadata": {},
   "outputs": [],
   "source": []
  },
  {
   "cell_type": "code",
   "execution_count": null,
   "metadata": {},
   "outputs": [],
   "source": []
  },
  {
   "cell_type": "code",
   "execution_count": null,
   "metadata": {},
   "outputs": [],
   "source": []
  },
  {
   "cell_type": "code",
   "execution_count": null,
   "metadata": {},
   "outputs": [],
   "source": []
  },
  {
   "cell_type": "code",
   "execution_count": null,
   "metadata": {},
   "outputs": [],
   "source": []
  },
  {
   "cell_type": "code",
   "execution_count": null,
   "metadata": {},
   "outputs": [],
   "source": []
  },
  {
   "cell_type": "code",
   "execution_count": null,
   "metadata": {},
   "outputs": [],
   "source": []
  },
  {
   "cell_type": "code",
   "execution_count": null,
   "metadata": {},
   "outputs": [],
   "source": []
  },
  {
   "cell_type": "code",
   "execution_count": null,
   "metadata": {},
   "outputs": [],
   "source": []
  },
  {
   "cell_type": "code",
   "execution_count": null,
   "metadata": {},
   "outputs": [],
   "source": []
  },
  {
   "cell_type": "code",
   "execution_count": null,
   "metadata": {},
   "outputs": [],
   "source": []
  },
  {
   "cell_type": "code",
   "execution_count": null,
   "metadata": {},
   "outputs": [],
   "source": []
  },
  {
   "cell_type": "code",
   "execution_count": null,
   "metadata": {},
   "outputs": [],
   "source": []
  },
  {
   "cell_type": "code",
   "execution_count": null,
   "metadata": {},
   "outputs": [],
   "source": []
  },
  {
   "cell_type": "code",
   "execution_count": null,
   "metadata": {},
   "outputs": [],
   "source": []
  },
  {
   "cell_type": "code",
   "execution_count": null,
   "metadata": {},
   "outputs": [],
   "source": []
  },
  {
   "cell_type": "code",
   "execution_count": null,
   "metadata": {},
   "outputs": [],
   "source": []
  },
  {
   "cell_type": "code",
   "execution_count": null,
   "metadata": {},
   "outputs": [],
   "source": []
  }
 ],
 "metadata": {
  "kernelspec": {
   "display_name": "Python 3",
   "language": "python",
   "name": "python3"
  },
  "language_info": {
   "codemirror_mode": {
    "name": "ipython",
    "version": 3
   },
   "file_extension": ".py",
   "mimetype": "text/x-python",
   "name": "python",
   "nbconvert_exporter": "python",
   "pygments_lexer": "ipython3",
   "version": "3.9.1"
  }
 },
 "nbformat": 4,
 "nbformat_minor": 4
}
