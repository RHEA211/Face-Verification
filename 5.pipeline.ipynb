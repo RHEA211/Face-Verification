{
 "cells": [
  {
   "cell_type": "markdown",
   "metadata": {},
   "source": [
    "# Pipeline All Models"
   ]
  },
  {
   "cell_type": "code",
   "execution_count": 18,
   "metadata": {},
   "outputs": [],
   "source": [
    "import numpy as np\n",
    "import cv2\n",
    "import sklearn\n",
    "import pickle"
   ]
  },
  {
   "cell_type": "code",
   "execution_count": 19,
   "metadata": {},
   "outputs": [
    {
     "name": "stderr",
     "output_type": "stream",
     "text": [
      "c:\\python39\\lib\\site-packages\\sklearn\\base.py:310: UserWarning: Trying to unpickle estimator LogisticRegression from version 0.24.1 when using version 0.24.2. This might lead to breaking code or invalid results. Use at your own risk.\n",
      "  warnings.warn(\n",
      "c:\\python39\\lib\\site-packages\\sklearn\\base.py:310: UserWarning: Trying to unpickle estimator SVC from version 0.24.1 when using version 0.24.2. This might lead to breaking code or invalid results. Use at your own risk.\n",
      "  warnings.warn(\n",
      "c:\\python39\\lib\\site-packages\\sklearn\\base.py:310: UserWarning: Trying to unpickle estimator DecisionTreeClassifier from version 0.24.1 when using version 0.24.2. This might lead to breaking code or invalid results. Use at your own risk.\n",
      "  warnings.warn(\n",
      "c:\\python39\\lib\\site-packages\\sklearn\\base.py:310: UserWarning: Trying to unpickle estimator RandomForestClassifier from version 0.24.1 when using version 0.24.2. This might lead to breaking code or invalid results. Use at your own risk.\n",
      "  warnings.warn(\n",
      "c:\\python39\\lib\\site-packages\\sklearn\\base.py:310: UserWarning: Trying to unpickle estimator LabelEncoder from version 0.24.1 when using version 0.24.2. This might lead to breaking code or invalid results. Use at your own risk.\n",
      "  warnings.warn(\n",
      "c:\\python39\\lib\\site-packages\\sklearn\\base.py:310: UserWarning: Trying to unpickle estimator VotingClassifier from version 0.24.1 when using version 0.24.2. This might lead to breaking code or invalid results. Use at your own risk.\n",
      "  warnings.warn(\n"
     ]
    }
   ],
   "source": [
    "# face detection\n",
    "face_detector_model = cv2.dnn.readNetFromCaffe('deploy.prototxt.txt',\n",
    "                                               'res10_300x300_ssd_iter_140000.caffemodel')\n",
    "# feature extraction\n",
    "face_feature_model = cv2.dnn.readNetFromTorch('openface.nn4.small2.v1.t7')\n",
    "# face recognition\n",
    "face_recognition_model = pickle.load(open('machinelearning_face_person_identity.pkl',\n",
    "                                          mode='rb'))\n",
    "# emotion recognition model\n",
    "emotion_recognition_model = pickle.load(open('machinelearning_face_emotion.pkl',mode='rb'))"
   ]
  },
  {
   "cell_type": "code",
   "execution_count": 22,
   "metadata": {},
   "outputs": [],
   "source": [
    "def pipeline_model(path):\n",
    "    # pipeline model\n",
    "    img = cv2.imread(path)\n",
    "    image = img.copy()\n",
    "    h,w = img.shape[:2]\n",
    "    # face detection\n",
    "    img_blob = cv2.dnn.blobFromImage(img,1,(300,300),(104,177,123),swapRB=False,crop=False)\n",
    "    face_detector_model.setInput(img_blob)\n",
    "    detections = face_detector_model.forward()\n",
    "    \n",
    "    # machcine results\n",
    "    machinlearning_results = dict(face_detect_score = [], \n",
    "                                 face_name = [],\n",
    "                                 face_name_score = [],\n",
    "                                 count = [])\n",
    "    count = 1\n",
    "    if len(detections) > 0:\n",
    "        for i , confidence in enumerate(detections[0,0,:,2]):\n",
    "            if confidence > 0.5:\n",
    "                box = detections[0,0,i,3:7]*np.array([w,h,w,h])\n",
    "                startx,starty,endx,endy = box.astype(int)\n",
    "\n",
    "                cv2.rectangle(image,(startx,starty),(endx,endy),(0,255,0))\n",
    "            \n",
    "                \n",
    "\n",
    "                # feature extraction\n",
    "                face_roi = img[starty:endy,startx:endx]\n",
    "                face_blob = cv2.dnn.blobFromImage(face_roi,1/255,(96,96),(0,0,0),swapRB=True,crop=True)\n",
    "                face_feature_model.setInput(face_blob)\n",
    "                vectors = face_feature_model.forward()\n",
    "\n",
    "                # predict with machine learning\n",
    "                face_name = face_recognition_model.predict(vectors)[0]\n",
    "                face_score = face_recognition_model.predict_proba(vectors).max()\n",
    "                # EMOTION \n",
    "                #emotion_name = emotion_recognition_model.predict(vectors)[0]\n",
    "                #emotion_score = emotion_recognition_model.predict_proba(vectors).max()\n",
    "\n",
    "                text_face = '{} : {:.0f} %'.format(face_name,100*face_score)\n",
    "               # text_emotion = '{} : {:.0f} %'.format(emotion_name,100*emotion_score)\n",
    "                no_text='unknown'\n",
    "            \n",
    "            if face_score < 0.70:\n",
    "                cv2.putText(image,no_text,(startx,starty),cv2.FONT_HERSHEY_PLAIN,2,(255,255,255),2)\n",
    "            else:        \n",
    "                cv2.putText(image,text_face,(startx,starty),cv2.FONT_HERSHEY_PLAIN,2,(255,255,255),2)\n",
    "             #   cv2.putText(image,text_emotion,(startx,endy),cv2.FONT_HERSHEY_PLAIN,2,(255,255,255),2)\n",
    "                \n",
    "                machinlearning_results['count'].append(count)\n",
    "                machinlearning_results['face_detect_score'].append(confidence)\n",
    "                machinlearning_results['face_name'].append(face_name)\n",
    "                machinlearning_results['face_name_score'].append(face_score)\n",
    "              \n",
    "                \n",
    "                count += 1\n",
    "                \n",
    "            \n",
    "    return image, machinlearning_results"
   ]
  },
  {
   "cell_type": "code",
   "execution_count": 21,
   "metadata": {},
   "outputs": [
    {
     "name": "stdout",
     "output_type": "stream",
     "text": [
      "{'face_detect_score': [0.99963903], 'face_name': ['Rhea'], 'face_name_score': [0.7121203677977173], 'count': [1]}\n"
     ]
    }
   ],
   "source": [
    "img, results = pipeline_model('hell.jpg')\n",
    "cv2.imshow('detection',img)\n",
    "cv2.waitKey(0)\n",
    "cv2.destroyAllWindows()\n",
    "print(results)"
   ]
  },
  {
   "cell_type": "code",
   "execution_count": null,
   "metadata": {},
   "outputs": [],
   "source": []
  },
  {
   "cell_type": "code",
   "execution_count": null,
   "metadata": {},
   "outputs": [],
   "source": []
  },
  {
   "cell_type": "code",
   "execution_count": null,
   "metadata": {},
   "outputs": [],
   "source": []
  }
 ],
 "metadata": {
  "kernelspec": {
   "display_name": "Python 3",
   "language": "python",
   "name": "python3"
  },
  "language_info": {
   "codemirror_mode": {
    "name": "ipython",
    "version": 3
   },
   "file_extension": ".py",
   "mimetype": "text/x-python",
   "name": "python",
   "nbconvert_exporter": "python",
   "pygments_lexer": "ipython3",
   "version": "3.9.1"
  }
 },
 "nbformat": 4,
 "nbformat_minor": 4
}
